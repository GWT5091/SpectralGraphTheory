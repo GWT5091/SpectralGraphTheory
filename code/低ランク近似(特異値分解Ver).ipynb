{
 "cells": [
  {
   "cell_type": "code",
   "execution_count": 34,
   "metadata": {},
   "outputs": [],
   "source": [
    "import numpy as np\n",
    "from numpy.linalg import svd, matrix_rank\n",
    "from PIL import Image\n",
    "import sys\n",
    "\n",
    "def low_rank_approximation(k : int, limit : int , A : np.ndarray):\n",
    "    \"\"\"\n",
    "    特異値分解から低ランク近似まで\n",
    "    k : 近似サイズ\n",
    "    limit : ファイルサイズ\n",
    "    A : 行列\n",
    "    \"\"\"\n",
    "    u, s, v = svd(A)\n",
    "    if(k > s.shape[0]):\n",
    "        sys.exit()\n",
    "    u = u[:,0:k]\n",
    "    s = s[0:k]\n",
    "    v = v[0:k]\n",
    "    A_return = (u @ np.diag(s) @ v)\n",
    "    return Image.fromarray(np.uint8(A_return))\n",
    "\n",
    "def main():\n",
    "    \"\"\"\n",
    "    project -> code ->  R9_lowrank.py\n",
    "           |\n",
    "            -> data ->  Airport.bmp\n",
    "           |\n",
    "            -> output -> out0000.jpg\n",
    "    \"\"\"\n",
    "    data_path = '../data/'\n",
    "    output_path = '../output/'\n",
    "    file_name = 'Airport.bmp'\n",
    "    file_size = 1024\n",
    "    k = 1\n",
    "\n",
    "    img = np.array(Image.open(data_path+file_name).convert('L'))\n",
    "    low_rank_approximation( k, file_size, img).save(output_path+'out'+str(k).zfill(4)+'.jpg')\n",
    "\n",
    "if __name__ == '__main__':\n",
    "    main()"
   ]
  }
 ],
 "metadata": {
  "kernelspec": {
   "display_name": "Python 3",
   "language": "python",
   "name": "python3"
  },
  "language_info": {
   "codemirror_mode": {
    "name": "ipython",
    "version": 3
   },
   "file_extension": ".py",
   "mimetype": "text/x-python",
   "name": "python",
   "nbconvert_exporter": "python",
   "pygments_lexer": "ipython3",
   "version": "3.7.2"
  }
 },
 "nbformat": 4,
 "nbformat_minor": 2
}
