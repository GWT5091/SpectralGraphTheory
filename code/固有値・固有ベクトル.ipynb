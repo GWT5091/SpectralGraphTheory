{
 "cells": [
  {
   "cell_type": "code",
   "execution_count": 1,
   "metadata": {},
   "outputs": [],
   "source": [
    "import pandas as pd\n",
    "import numpy as np"
   ]
  },
  {
   "cell_type": "code",
   "execution_count": 2,
   "metadata": {},
   "outputs": [],
   "source": [
    "df = pd.read_csv('../data/20200524_L.csv',index_col=0)"
   ]
  },
  {
   "cell_type": "code",
   "execution_count": 3,
   "metadata": {},
   "outputs": [],
   "source": [
    "la, v = np.linalg.eig(df.values)"
   ]
  },
  {
   "cell_type": "code",
   "execution_count": 4,
   "metadata": {},
   "outputs": [
    {
     "name": "stdout",
     "output_type": "stream",
     "text": [
      "第0成分\n",
      "0.9999999999999993\n",
      "[-0.81649658  0.57735027 -0.32444284  0.          0.        ]\n",
      "第1成分\n",
      "3.999999999999999\n",
      "[ 0.40824829  0.57735027 -0.48666426  0.          0.        ]\n",
      "第2成分\n",
      "0.9999999999999998\n",
      "[0.40824829 0.57735027 0.81110711 0.         0.        ]\n",
      "第3成分\n",
      "2.0\n",
      "[ 0.          0.          0.          0.70710678 -0.70710678]\n",
      "第4成分\n",
      "0.0\n",
      "[0.         0.         0.         0.70710678 0.70710678]\n"
     ]
    }
   ],
   "source": [
    "for i in range(len(la)):\n",
    "    print('第'+str(i)+'成分')\n",
    "    print(la[i])\n",
    "    print(v[i])"
   ]
  },
  {
   "cell_type": "code",
   "execution_count": 12,
   "metadata": {},
   "outputs": [
    {
     "data": {
      "text/plain": [
       "array([ 0.35355339, -0.35355339, -0.35355339,  0.70710678, -0.35355339])"
      ]
     },
     "execution_count": 12,
     "metadata": {},
     "output_type": "execute_result"
    }
   ],
   "source": []
  }
 ],
 "metadata": {
  "kernelspec": {
   "display_name": "Python 3",
   "language": "python",
   "name": "python3"
  },
  "language_info": {
   "codemirror_mode": {
    "name": "ipython",
    "version": 3
   },
   "file_extension": ".py",
   "mimetype": "text/x-python",
   "name": "python",
   "nbconvert_exporter": "python",
   "pygments_lexer": "ipython3",
   "version": "3.7.2"
  }
 },
 "nbformat": 4,
 "nbformat_minor": 2
}
