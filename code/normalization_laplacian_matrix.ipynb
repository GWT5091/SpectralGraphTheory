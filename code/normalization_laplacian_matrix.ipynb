{
 "cells": [
  {
   "cell_type": "code",
   "execution_count": 20,
   "metadata": {},
   "outputs": [],
   "source": [
    "import pandas as pd\n",
    "import numpy as np\n",
    "import datetime as dt\n",
    "\n",
    "def convert_nor_lap_mat(df:pd.DataFrame):\n",
    "    size_taple = df.values.shape\n",
    "    data_val = df.values\n",
    "    matrix = np.zeros(size_taple)\n",
    "    for i in range(size_taple[0]):\n",
    "        for j in range(size_taple[0]):\n",
    "            if i == j:\n",
    "                matrix[i][j] = data_val[i][j]\n",
    "            else:\n",
    "                matrix[i][j] = (data_val[i][j] / np.sqrt(data_val[i][i] * data_val[j][j]))*(-1)\n",
    "    return pd.DataFrame(index=df.index, columns=df.columns, data = matrix)\n",
    "\n",
    "def today():\n",
    "    tdatetime = dt.datetime.now()\n",
    "    return tdatetime.strftime('%Y%m%d')\n",
    "\n",
    "def output_csv(df:pd.DataFrame, name:str):\n",
    "    df.to_csv('../output/'+today()+name+'.csv',encoding='utf-8-sig')"
   ]
  },
  {
   "cell_type": "code",
   "execution_count": 22,
   "metadata": {},
   "outputs": [],
   "source": [
    "path = '../data/'\n",
    "data_name = '20200422_L.csv'\n",
    "data_df = pd.read_csv(path+data_name,index_col=0)\n",
    "N_data_df = convert_nor_lap_mat(data_df)\n",
    "output_csv(N_data_df,'Nomalization_laplacian_matrix')"
   ]
  }
 ],
 "metadata": {
  "kernelspec": {
   "display_name": "Python 3",
   "language": "python",
   "name": "python3"
  },
  "language_info": {
   "codemirror_mode": {
    "name": "ipython",
    "version": 3
   },
   "file_extension": ".py",
   "mimetype": "text/x-python",
   "name": "python",
   "nbconvert_exporter": "python",
   "pygments_lexer": "ipython3",
   "version": "3.7.2"
  }
 },
 "nbformat": 4,
 "nbformat_minor": 2
}
